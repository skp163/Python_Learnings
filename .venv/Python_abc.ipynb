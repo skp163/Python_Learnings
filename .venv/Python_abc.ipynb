{
 "cells": [
  {
   "cell_type": "code",
   "execution_count": 6,
   "metadata": {},
   "outputs": [
    {
     "name": "stdout",
     "output_type": "stream",
     "text": [
      "Jay Jagannatha, Jay MaaLaxmi\n"
     ]
    }
   ],
   "source": [
    "print('Jay {}, Jay {}'.format(\"Jagannatha\",\"MaaLaxmi\"))"
   ]
  },
  {
   "cell_type": "markdown",
   "metadata": {},
   "source": [
    "Standard Indentation - 4 spaces.\n",
    "Data Types\n",
    "- function to check - type(), isinstance()\n",
    "- Integer, float, string, Boolean, complex, List, Tuple, Dictionary\n",
    "- Strings - Can store Unicode characters (mean all kind of character, symbols,special-char etc)\n",
    "\t- Multiline strings can be stored within triple quotes (''') or (\"\"\") \n",
    "- 1+2j - Complex\n",
    "- Everything is an object in Python.\n",
    "- Everything is indexed from 0.\n",
    "\t- Example : s = 'IamSunil'\n",
    "\t- print(s[2]), print(s[-2])\n",
    "\t- Returns - m, Returns - i\n",
    "\t- print(s[len(s)-1]).  returns -l\n",
    "- Slicing\n",
    "\t- print(s[5: ]), returns - nil\n",
    "\t- print(s[5:6]), it will return from 5th char to 5th char. not return 6th char.\n",
    "- List\n",
    "\t- Ordered sequence of items. Mutable, flexible, mostly used datatype, all items need not to belongs to one data types.\n",
    "\t- Enclosed with [].\n",
    "\t- Ex - a = [1, 1.2, 'b']\n",
    "\t- print(a[1]), returns - 1.2\n",
    "\t- Mutable - a[1] = 3, it will replace 1.2 with 3 in the list.\n",
    "- Tuple\n",
    "\t- Same as list. Ordered sequence of items. But tuple is immutable enclosed with (). Once created can not be modified.\n",
    "\t- Example - a = (1, 2, 1.1, 'Sunil'), print([2]), returns - 1.1\n",
    "\t- a[1] = 5, returns error as tuples can not be modified.\n",
    "- Sets\n",
    "\t- Unordered collection of unique items.\n",
    "\t- Values separated by comma enclosed with {}.\n",
    "\t-  Example a = {3,2,1,1,2}, print(a), returns - {1,2,3} , duplicated will be ignored\n",
    "\t- Can be used for Union, Intersection of 2 sets.\n",
    "\t- We can't print a particular element from a set because it is unordered collection. Ex - a[2], returns error. Doesn't support indexing\n",
    "- Dictionary\n",
    "\t- Unordered collection of key-value pairs.\n",
    "\t- Within {} and separated by key:values. Key and values can be of any data types.\n",
    "\t- Ex - b = { 'Name':'Sunil', 'Profession':'Salaried'}, print(b['Name']), returns 'Sunil'\n",
    "\t- Its like hash table in C.\n",
    "\n",
    "How to convert data types one to another\n",
    "\n",
    "- can be converted by functions like int(), float(),  str()\n",
    "- Ex - float(5), returns - 5.0, int(100.0), returns - 100, str(20), returns - \"20\"\n",
    "- Conversions from and to should be compatible values. Ex - int('10p'), returns invalid literal\n",
    "- Concatination of different data types.\n",
    "\t- Ex - User = \"Sunil\" , Lines = 100\n",
    "\t- Print(\"Congrats,\" + User + \"Your Line : \" + str(Lines) + \"Thanks\"\n",
    "- Ex - a = [1, 2, 3], s = set(a), print(type(s)), returns set.\n",
    "-  Converting string to lists using list() methods.\n",
    "\t- Ex - a = \"Sunil\", list(a), returns - [\"S\", \"u\", \"n\", \"i\", \"l\"]\n",
    "Output and Input\n",
    "- a = 10\n",
    "- print(\"Sunil\"), print(\"Sunil\", a), print(\"sunil\",str(a))\n",
    "- Multiple statements in single line:\n",
    "\t- a = 10; b=20\n",
    "\t- print( \"a is { } and b is { }\".format(a,b)) \n",
    "\t- print(\"a is {1} and b is {0}\".format(a,b)) ,return - a is 20 and  b is 10 because it will take the index of a as 0 and b as 1 as we put in the format.\n",
    "\t- we can use keyword arguments to format the strings\n",
    "\t\t- print( \"Hello {name}, {greetings}.format(name=\"Sunil\",greetings=\"Good Morning!\"))\n",
    "Input\n",
    "- a = input(\"enter a value\"), print(a)"
   ]
  },
  {
   "cell_type": "code",
   "execution_count": 7,
   "metadata": {},
   "outputs": [
    {
     "name": "stdout",
     "output_type": "stream",
     "text": [
      "123\n"
     ]
    }
   ],
   "source": [
    "a=input(\"Enter a value\")\n",
    "print(a)"
   ]
  },
  {
   "cell_type": "markdown",
   "metadata": {},
   "source": [
    "**Operators**\n",
    "**Mathemetical Operator**\n",
    "+,-,*,/,% Modulo division(means gives remainder), // floor division(means nearest integer after devide and it should be less than the exact flot number  like 7.5 = 7 or -7.5 =8), ** exponent\n",
    "**Compairsion Operators**\n",
    "<,>,<=,>=,!=,=\n",
    "**Logical Operators**\n",
    "and,or,,not\n",
    "*For And - TT=T, TF=F, FF=F,FT=F*\n",
    "*For or - TT=T,TF=T, FF-F,FT=T*\n",
    "Example Below:\n"
   ]
  },
  {
   "cell_type": "code",
   "execution_count": 9,
   "metadata": {},
   "outputs": [
    {
     "name": "stdout",
     "output_type": "stream",
     "text": [
      "False\n",
      "False\n",
      "True\n",
      "True\n"
     ]
    }
   ],
   "source": [
    "a,b = True,False\n",
    "print(a and b)\n",
    "print(b and a)\n",
    "print(a or b)\n",
    "print(b or a)"
   ]
  },
  {
   "cell_type": "markdown",
   "metadata": {},
   "source": [
    "**Bitwise Operators**\n",
    "&, |, ~, ^, >>, <<\n",
    "Example - a,b = 10,4 print(a & b)\n",
    "\n",
    "**Assignment Operators**\n",
    "=,+=,==,*=,/=,%=,//=,**=,&=,|=, ^=, >>=, <<=\n",
    "\n",
    "a += 10, returns 20 because it means a= a+10 simillarly, a -= 10 mean a=a-10, *= mean a=a*10 etc\n",
    "\n",
    "**identity Operators**\n",
    "is, is not   (they chaeck if two values or variables are stored in the same part of memory.)\n",
    "a=5, b = 5, print(a is b)\n",
    "these operators works in the above format not for  list, tupples, complex format. it will work for strings a = \"sunil\" , b=\"sunil\", print(a is b), returns- true\n",
    "\n",
    "**Membership Operator**\n",
    "in, not in"
   ]
  },
  {
   "cell_type": "code",
   "execution_count": 12,
   "metadata": {},
   "outputs": [
    {
     "name": "stdout",
     "output_type": "stream",
     "text": [
      "True\n",
      "True\n"
     ]
    }
   ],
   "source": [
    "lst = [1,2,3]\n",
    "print(2 in lst)\n",
    "\n",
    "d = {1:'a',2:'b'}\n",
    "print(1 in d)  #we can check only keys  not values in dictionary data types."
   ]
  },
  {
   "cell_type": "markdown",
   "metadata": {},
   "source": [
    "##Control Loop : if , elif, else\n"
   ]
  },
  {
   "cell_type": "code",
   "execution_count": 17,
   "metadata": {},
   "outputs": [
    {
     "name": "stdout",
     "output_type": "stream",
     "text": [
      "False\n",
      "True\n",
      "False\n",
      "False\n"
     ]
    }
   ],
   "source": [
    "a = 10\n",
    "if a > 10:\n",
    "    print(\"True\")\n",
    "print(\"False\") # This will always false\n",
    "\n",
    "a = 10\n",
    "if a == 10:\n",
    "    print(\"True\")\n",
    "print(\"False\") \n",
    "\n",
    "a = 10\n",
    "if a- 10:\n",
    "    print(\"True\")\n",
    "print(\"False\") # This returns false as every 0, Flase, None is considered False in python"
   ]
  },
  {
   "cell_type": "markdown",
   "metadata": {},
   "source": [
    "**If...Else**\n"
   ]
  },
  {
   "cell_type": "code",
   "execution_count": 18,
   "metadata": {},
   "outputs": [
    {
     "name": "stdout",
     "output_type": "stream",
     "text": [
      "a is not grater than 10\n"
     ]
    }
   ],
   "source": [
    "a = 10\n",
    "if a >10:\n",
    "    print(\"a is grater than 10\")\n",
    "else:\n",
    "    print(\"a is not grater than 10\")"
   ]
  },
  {
   "cell_type": "markdown",
   "metadata": {},
   "source": [
    "**if..elif..else**"
   ]
  },
  {
   "cell_type": "code",
   "execution_count": 21,
   "metadata": {},
   "outputs": [
    {
     "name": "stdout",
     "output_type": "stream",
     "text": [
      "num > 10\n"
     ]
    }
   ],
   "source": [
    "num = 100\n",
    "if num<10:\n",
    "    print(\"Num < 10\")\n",
    "elif num == 10:\n",
    "   print(\"num = 10\")\n",
    "else:\n",
    "   print(\"num > 10\")"
   ]
  },
  {
   "cell_type": "markdown",
   "metadata": {},
   "source": [
    "**Nested If**"
   ]
  },
  {
   "cell_type": "code",
   "execution_count": 24,
   "metadata": {},
   "outputs": [
    {
     "name": "stdout",
     "output_type": "stream",
     "text": [
      "a not equals to 0\n"
     ]
    }
   ],
   "source": [
    "a = 30\n",
    "if a >= 30:\n",
    "    if a == 0:\n",
    "        print(\"a = 0\")\n",
    "    else:\n",
    "        print(\"a not equals to 0\")\n",
    "else:\n",
    "    print(\"a >= 0\")\n"
   ]
  },
  {
   "cell_type": "code",
   "execution_count": 31,
   "metadata": {},
   "outputs": [
    {
     "name": "stdout",
     "output_type": "stream",
     "text": [
      " c is the largest\n",
      "The largest number is:60\n"
     ]
    },
    {
     "data": {
      "text/plain": [
       "'if a > b:\\n    if a > c:\\n        print(\"a is largest element\")\\n        if b > a:\\n            if b > c:\\n            print (\"b is largest element\")\\n                if c > a:\\n                    if a > b:\\n                        print(\"C is the largest One\")\\n                    else:\\n                        print(\"C is not largest\")\\n                else:\\n                    print (\"B is not largest\")\\n            else:\\n                print(\"C is not largest\")\\n        else:\\n            print(\"don\\'t know\")\\n    else:\\n        print(\"i don\\'t know\")\\n else:\\n    print(\"knowbody knows\")'"
      ]
     },
     "execution_count": 31,
     "metadata": {},
     "output_type": "execute_result"
    }
   ],
   "source": [
    "# Find the largest element \n",
    "a = 10\n",
    "b = 50\n",
    "c = 60\n",
    "\n",
    "\n",
    "if (a >= b) and (a >= c):\n",
    "    print(\"A is the largest\")\n",
    "elif (b >= c) and (b >= a):\n",
    "    print(\"b is the largest\")\n",
    "else:\n",
    "    print(\" c is the largest\")\n",
    "\n",
    "#######\n",
    "\n",
    "if (a >= b) and (a >= c):\n",
    "    Largest = a\n",
    "elif (b >= c) and (b >= a):\n",
    "    Largest = b\n",
    "else:\n",
    "    Largest = c\n",
    "print(\"The largest number is:{}\".format(Largest))\n",
    "\n",
    "\n",
    "\n",
    "\"\"\"if a > b:\n",
    "    if a > c:\n",
    "        print(\"a is largest element\")\n",
    "        if b > a:\n",
    "            if b > c:\n",
    "            print (\"b is largest element\")\n",
    "                if c > a:\n",
    "                    if a > b:\n",
    "                        print(\"C is the largest One\")\n",
    "                    else:\n",
    "                        print(\"C is not largest\")\n",
    "                else:\n",
    "                    print (\"B is not largest\")\n",
    "            else:\n",
    "                print(\"C is not largest\")\n",
    "        else:\n",
    "            print(\"don't know\")\n",
    "    else:\n",
    "        print(\"i don't know\")\n",
    " else:\n",
    "    print(\"knowbody knows\")\"\"\"\n",
    "\n"
   ]
  },
  {
   "cell_type": "markdown",
   "metadata": {},
   "source": [
    "**Loop: While**\n",
    "used in python over a block of code as long as the test expression is true.\n"
   ]
  }
 ],
 "metadata": {
  "kernelspec": {
   "display_name": ".venv",
   "language": "python",
   "name": "python3"
  },
  "language_info": {
   "codemirror_mode": {
    "name": "ipython",
    "version": 3
   },
   "file_extension": ".py",
   "mimetype": "text/x-python",
   "name": "python",
   "nbconvert_exporter": "python",
   "pygments_lexer": "ipython3",
   "version": "3.9.13"
  },
  "orig_nbformat": 4
 },
 "nbformat": 4,
 "nbformat_minor": 2
}
