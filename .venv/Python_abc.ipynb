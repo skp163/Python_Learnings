{
 "cells": [
  {
   "cell_type": "code",
   "execution_count": 6,
   "metadata": {},
   "outputs": [
    {
     "name": "stdout",
     "output_type": "stream",
     "text": [
      "Jay Jagannatha, Jay MaaLaxmi\n"
     ]
    }
   ],
   "source": [
    "print('Jay {}, Jay {}'.format(\"Jagannatha\",\"MaaLaxmi\"))"
   ]
  },
  {
   "cell_type": "markdown",
   "metadata": {},
   "source": [
    "##Standard Indentation - 4 spaces.\n",
    "#Data Types\n",
    "- function to check - type(), isinstance()\n",
    "- Integer, float, string, Boolean, complex, List, Tuple, Dictionary\n",
    "- Strings - Can store Unicode characters (mean all kind of character, symbols,special-char etc)\n",
    "\t- Multiline strings can be stored within triple quotes (''') or (\"\"\") \n",
    "- 1+2j - Complex\n",
    "- Everything is an object in Python.\n",
    "- Everything is indexed from 0.\n",
    "\t- Example : s = 'IamSunil'\n",
    "\t- print(s[2]), print(s[-2])\n",
    "\t- Returns - m, Returns - i\n",
    "\t- print(s[len(s)-1]).  returns -l\n",
    "- Slicing\n",
    "\t- print(s[5: ]), returns - nil\n",
    "\t- print(s[5:6]), it will return from 5th char to 5th char. not return 6th char.\n",
    "- List\n",
    "\t- Ordered sequence of items. Mutable, flexible, mostly used datatype, all items need not to belongs to one data types.\n",
    "\t- Enclosed with [].\n",
    "\t- Ex - a = [1, 1.2, 'b']\n",
    "\t- print(a[1]), returns - 1.2\n",
    "\t- Mutable - a[1] = 3, it will replace 1.2 with 3 in the list.\n",
    "- Tuple\n",
    "\t- Same as list. Ordered sequence of items. But tuple is immutable enclosed with (). Once created can not be modified.\n",
    "\t- Example - a = (1, 2, 1.1, 'Sunil'), print([2]), returns - 1.1\n",
    "\t- a[1] = 5, returns error as tuples can not be modified.\n",
    "- Sets\n",
    "\t- Unordered collection of unique items.\n",
    "\t- Values separated by comma enclosed with {}.\n",
    "\t-  Example a = {3,2,1,1,2}, print(a), returns - {1,2,3} , duplicated will be ignored\n",
    "\t- Can be used for Union, Intersection of 2 sets.\n",
    "\t- We can't print a particular element from a set because it is unordered collection. Ex - a[2], returns error. Doesn't support indexing\n",
    "- Dictionary\n",
    "\t- Unordered collection of key-value pairs.\n",
    "\t- Within {} and separated by key:values. Key and values can be of any data types.\n",
    "\t- Ex - b = { 'Name':'Sunil', 'Profession':'Salaried'}, print(b['Name']), returns 'Sunil'\n",
    "\t- Its like hash table in C.\n",
    "\n",
    "How to convert data types one to another\n",
    "\n",
    "- can be converted by functions like int(), float(),  str()\n",
    "- Ex - float(5), returns - 5.0, int(100.0), returns - 100, str(20), returns - \"20\"\n",
    "- Conversions from and to should be compatible values. Ex - int('10p'), returns invalid literal\n",
    "- Concatination of different data types.\n",
    "\t- Ex - User = \"Sunil\" , Lines = 100\n",
    "\t- Print(\"Congrats,\" + User + \"Your Line : \" + str(Lines) + \"Thanks\"\n",
    "- Ex - a = [1, 2, 3], s = set(a), print(type(s)), returns set.\n",
    "-  Converting string to lists using list() methods.\n",
    "\t- Ex - a = \"Sunil\", list(a), returns - [\"S\", \"u\", \"n\", \"i\", \"l\"]\n",
    "##Output and Input\n",
    "- a = 10\n",
    "- print(\"Sunil\"), print(\"Sunil\", a), print(\"sunil\",str(a))\n",
    "- Multiple statements in single line:\n",
    "\t- a = 10; b=20\n",
    "\t- print( \"a is { } and b is { }\".format(a,b)) \n",
    "\t- print(\"a is {1} and b is {0}\".format(a,b)) ,return - a is 20 and  b is 10 because it will take the index of a as 0 and b as 1 as we put in the format.\n",
    "\t- we can use keyword arguments to format the strings\n",
    "\t\t- print( \"Hello {name}, {greetings}.format(name=\"Sunil\",greetings=\"Good Morning!\"))\n",
    "Input\n",
    "- a = input(\"enter a value\"), print(a)"
   ]
  },
  {
   "cell_type": "code",
   "execution_count": 7,
   "metadata": {},
   "outputs": [
    {
     "name": "stdout",
     "output_type": "stream",
     "text": [
      "123\n"
     ]
    }
   ],
   "source": [
    "a=input(\"Enter a value\")\n",
    "print(a)"
   ]
  },
  {
   "cell_type": "markdown",
   "metadata": {},
   "source": [
    "##Operators\n",
    "**Mathemetical Operator**\n",
    "+,-,*,/,% Modulo division(means gives remainder), // floor division(means nearest integer after devide and it should be less than the exact flot number  like 7.5 = 7 or -7.5 =8), ** exponent\n",
    "**Compairsion Operators**\n",
    "<,>,<=,>=,!=,=\n",
    "**Logical Operators**\n",
    "and,or,,not\n",
    "*For And - TT=T, TF=F, FF=F,FT=F*\n",
    "*For or - TT=T,TF=T, FF-F,FT=T*\n",
    "Example Below:\n"
   ]
  },
  {
   "cell_type": "code",
   "execution_count": 9,
   "metadata": {},
   "outputs": [
    {
     "name": "stdout",
     "output_type": "stream",
     "text": [
      "False\n",
      "False\n",
      "True\n",
      "True\n"
     ]
    }
   ],
   "source": [
    "a,b = True,False\n",
    "print(a and b)\n",
    "print(b and a)\n",
    "print(a or b)\n",
    "print(b or a)"
   ]
  },
  {
   "cell_type": "markdown",
   "metadata": {},
   "source": [
    "**Bitwise Operators**\n",
    "&, |, ~, ^, >>, <<\n",
    "Example - a,b = 10,4 print(a & b)\n",
    "\n",
    "**Assignment Operators**\n",
    "=,+=,==,*=,/=,%=,//=,**=,&=,|=, ^=, >>=, <<=\n",
    "\n",
    "a += 10, returns 20 because it means a= a+10 simillarly, a -= 10 mean a=a-10, *= mean a=a*10 etc\n",
    "\n",
    "**identity Operators**\n",
    "is, is not   (they chaeck if two values or variables are stored in the same part of memory.)\n",
    "a=5, b = 5, print(a is b)\n",
    "these operators works in the above format not for  list, tupples, complex format. it will work for strings a = \"sunil\" , b=\"sunil\", print(a is b), returns- true\n",
    "\n",
    "**Membership Operator**\n",
    "in, not in"
   ]
  },
  {
   "cell_type": "code",
   "execution_count": 12,
   "metadata": {},
   "outputs": [
    {
     "name": "stdout",
     "output_type": "stream",
     "text": [
      "True\n",
      "True\n"
     ]
    }
   ],
   "source": [
    "lst = [1,2,3]\n",
    "print(2 in lst)\n",
    "\n",
    "d = {1:'a',2:'b'}\n",
    "print(1 in d)  #we can check only keys  not values in dictionary data types."
   ]
  },
  {
   "cell_type": "markdown",
   "metadata": {},
   "source": [
    "##Control Loop : if , elif, else\n"
   ]
  },
  {
   "cell_type": "code",
   "execution_count": 17,
   "metadata": {},
   "outputs": [
    {
     "name": "stdout",
     "output_type": "stream",
     "text": [
      "False\n",
      "True\n",
      "False\n",
      "False\n"
     ]
    }
   ],
   "source": [
    "a = 10\n",
    "if a > 10:\n",
    "    print(\"True\")\n",
    "print(\"False\") # This will always false\n",
    "\n",
    "a = 10\n",
    "if a == 10:\n",
    "    print(\"True\")\n",
    "print(\"False\") \n",
    "\n",
    "a = 10\n",
    "if a- 10:\n",
    "    print(\"True\")\n",
    "print(\"False\") # This returns false as every 0, Flase, None is considered False in python"
   ]
  },
  {
   "cell_type": "markdown",
   "metadata": {},
   "source": [
    "**If...Else**\n"
   ]
  },
  {
   "cell_type": "code",
   "execution_count": 18,
   "metadata": {},
   "outputs": [
    {
     "name": "stdout",
     "output_type": "stream",
     "text": [
      "a is not grater than 10\n"
     ]
    }
   ],
   "source": [
    "a = 10\n",
    "if a >10:\n",
    "    print(\"a is grater than 10\")\n",
    "else:\n",
    "    print(\"a is not grater than 10\")"
   ]
  },
  {
   "cell_type": "markdown",
   "metadata": {},
   "source": [
    "**if..elif..else**"
   ]
  },
  {
   "cell_type": "code",
   "execution_count": 21,
   "metadata": {},
   "outputs": [
    {
     "name": "stdout",
     "output_type": "stream",
     "text": [
      "num > 10\n"
     ]
    }
   ],
   "source": [
    "num = 100\n",
    "if num<10:\n",
    "    print(\"Num < 10\")\n",
    "elif num == 10:\n",
    "   print(\"num = 10\")\n",
    "else:\n",
    "   print(\"num > 10\")"
   ]
  },
  {
   "cell_type": "markdown",
   "metadata": {},
   "source": [
    "**Nested If**"
   ]
  },
  {
   "cell_type": "code",
   "execution_count": 24,
   "metadata": {},
   "outputs": [
    {
     "name": "stdout",
     "output_type": "stream",
     "text": [
      "a not equals to 0\n"
     ]
    }
   ],
   "source": [
    "a = 30\n",
    "if a >= 30:\n",
    "    if a == 0:\n",
    "        print(\"a = 0\")\n",
    "    else:\n",
    "        print(\"a not equals to 0\")\n",
    "else:\n",
    "    print(\"a >= 0\")\n"
   ]
  },
  {
   "cell_type": "code",
   "execution_count": 31,
   "metadata": {},
   "outputs": [
    {
     "name": "stdout",
     "output_type": "stream",
     "text": [
      " c is the largest\n",
      "The largest number is:60\n"
     ]
    },
    {
     "data": {
      "text/plain": [
       "'if a > b:\\n    if a > c:\\n        print(\"a is largest element\")\\n        if b > a:\\n            if b > c:\\n            print (\"b is largest element\")\\n                if c > a:\\n                    if a > b:\\n                        print(\"C is the largest One\")\\n                    else:\\n                        print(\"C is not largest\")\\n                else:\\n                    print (\"B is not largest\")\\n            else:\\n                print(\"C is not largest\")\\n        else:\\n            print(\"don\\'t know\")\\n    else:\\n        print(\"i don\\'t know\")\\n else:\\n    print(\"knowbody knows\")'"
      ]
     },
     "execution_count": 31,
     "metadata": {},
     "output_type": "execute_result"
    }
   ],
   "source": [
    "# Find the largest element \n",
    "a = 10\n",
    "b = 50\n",
    "c = 60\n",
    "\n",
    "\n",
    "if (a >= b) and (a >= c):\n",
    "    print(\"A is the largest\")\n",
    "elif (b >= c) and (b >= a):\n",
    "    print(\"b is the largest\")\n",
    "else:\n",
    "    print(\" c is the largest\")\n",
    "\n",
    "#######\n",
    "\n",
    "if (a >= b) and (a >= c):\n",
    "    Largest = a\n",
    "elif (b >= c) and (b >= a):\n",
    "    Largest = b\n",
    "else:\n",
    "    Largest = c\n",
    "print(\"The largest number is:{}\".format(Largest))\n",
    "\n",
    "\n",
    "\n",
    "\"\"\"if a > b:\n",
    "    if a > c:\n",
    "        print(\"a is largest element\")\n",
    "        if b > a:\n",
    "            if b > c:\n",
    "            print (\"b is largest element\")\n",
    "                if c > a:\n",
    "                    if a > b:\n",
    "                        print(\"C is the largest One\")\n",
    "                    else:\n",
    "                        print(\"C is not largest\")\n",
    "                else:\n",
    "                    print (\"B is not largest\")\n",
    "            else:\n",
    "                print(\"C is not largest\")\n",
    "        else:\n",
    "            print(\"don't know\")\n",
    "    else:\n",
    "        print(\"i don't know\")\n",
    " else:\n",
    "    print(\"knowbody knows\")\"\"\"\n",
    "\n"
   ]
  },
  {
   "cell_type": "markdown",
   "metadata": {},
   "source": [
    "## While Loop \n",
    "used in python over a block of code as long as the test expression is true.\n",
    "Ex -\n",
    "Find a product of all numbers present in a list.\n",
    "lst = [10,20,30,40,60,50]    Expression - lst(0)*list(1)*lst(2),,,,,,,*lst(5)\n",
    "\n",
    "product = 1\n",
    "index = 0\n"
   ]
  },
  {
   "cell_type": "code",
   "execution_count": 3,
   "metadata": {},
   "outputs": [
    {
     "name": "stdout",
     "output_type": "stream",
     "text": [
      "Product = 720000000\n"
     ]
    }
   ],
   "source": [
    "lst = [10,20,30,40,60,50] \n",
    "\n",
    "product = 1\n",
    "index = 0\n",
    "\n",
    "while index < len(lst):\n",
    "    product *= lst[index]\n",
    "    index += 1\n",
    "\n",
    "print(\"Product = {}\".format(product))"
   ]
  },
  {
   "cell_type": "markdown",
   "metadata": {},
   "source": [
    "**While loop with else**\n",
    "Else part is excuted if the while part is False. The whileloop can be break with break statement else it will run infinity times. If no breks occur and while part is false then else part runs continiously. "
   ]
  },
  {
   "cell_type": "code",
   "execution_count": 12,
   "metadata": {},
   "outputs": [
    {
     "name": "stdout",
     "output_type": "stream",
     "text": [
      "1\n",
      "2\n",
      "3\n",
      "4\n",
      "end\n"
     ]
    }
   ],
   "source": [
    "a= [1,2,3,4]\n",
    "index = 0\n",
    "while index < len(a):\n",
    "    print(a[index])\n",
    "    index += 1\n",
    "else:\n",
    "    print(\"end\")\n"
   ]
  },
  {
   "cell_type": "code",
   "execution_count": 7,
   "metadata": {},
   "outputs": [
    {
     "name": "stdout",
     "output_type": "stream",
     "text": [
      "1\n",
      "2\n",
      "3\n",
      "4\n",
      "5\n",
      "6\n",
      "7\n",
      "8\n",
      "9\n",
      "10\n",
      "9\n",
      "8\n",
      "7\n",
      "6\n",
      "5\n",
      "4\n",
      "3\n",
      "2\n",
      "1\n",
      "0\n",
      "end\n"
     ]
    }
   ],
   "source": [
    "#Itreate 1 to 10 and back from 10 to 1\n",
    "a = 1\n",
    "index = 0\n",
    "\n",
    "while index < 10:\n",
    "    print(index+a)\n",
    "    index +=1\n",
    "else:\n",
    "    while index >= 1:\n",
    "        print(index-1)\n",
    "        index -=1\n",
    "    else:\n",
    "        print(\"end\")\n",
    "\n"
   ]
  },
  {
   "cell_type": "code",
   "execution_count": 28,
   "metadata": {},
   "outputs": [
    {
     "name": "stdout",
     "output_type": "stream",
     "text": [
      "16 is divisible by 2\n",
      "16 is divisible by 4\n",
      "16 is divisible by 8\n",
      "16 is not a prime number\n"
     ]
    }
   ],
   "source": [
    "#Find a prime number\n",
    "num = int(input(\"input a number: \"))\n",
    "i = 2\n",
    "isDivisible = False;\n",
    "\n",
    "while i < num:\n",
    "    if num % i == 0:\n",
    "        isDivisible = True\n",
    "        print(\"{} is divisible by {}\".format(num,i))\n",
    "    i +=1;\n",
    "\n",
    "if isDivisible:\n",
    "    print(\"{} is not a prime number\".format(num))\n",
    "else:\n",
    "    print(\"{} is an prime number\".format(num))\n",
    "\n"
   ]
  },
  {
   "cell_type": "markdown",
   "metadata": {},
   "source": [
    "**For Loop**\n",
    "Used to iterate over a sequence (list, tupple, strings). Itreting over a squence is called trasversal."
   ]
  },
  {
   "cell_type": "code",
   "execution_count": 1,
   "metadata": {},
   "outputs": [
    {
     "name": "stdout",
     "output_type": "stream",
     "text": [
      "Product is 12000000\n"
     ]
    }
   ],
   "source": [
    "lst = [10,20,30,40,50]\n",
    "product = 1\n",
    "for ele in lst:\n",
    "    product *= ele\n",
    "print(\"Product is {}\".format(product))"
   ]
  },
  {
   "cell_type": "markdown",
   "metadata": {},
   "source": [
    "**Range Fun**\n",
    "Generate a sequence of numbers using range function. range(10) will generate from 0 to 9(10 numbers).\n",
    "We can also define start,stop, step size. If not provided it will take default to 1. It doesnot store all the numbers in the memory, it only keeps start,stop and step size and keep itreting on the go.\n",
    "it does not produce list"
   ]
  },
  {
   "cell_type": "code",
   "execution_count": 3,
   "metadata": {},
   "outputs": [
    {
     "name": "stdout",
     "output_type": "stream",
     "text": [
      "0\n",
      "1\n",
      "2\n",
      "3\n",
      "4\n",
      "5\n",
      "6\n",
      "7\n",
      "8\n",
      "9\n",
      "1\n",
      "3\n",
      "5\n",
      "7\n",
      "9\n",
      "11\n",
      "13\n",
      "15\n",
      "17\n",
      "19\n"
     ]
    }
   ],
   "source": [
    "for i in range(10):\n",
    "    print(i)\n",
    "\n",
    "for i in range(1,20,2):\n",
    "    print(i)"
   ]
  },
  {
   "cell_type": "code",
   "execution_count": 7,
   "metadata": {},
   "outputs": [
    {
     "name": "stdout",
     "output_type": "stream",
     "text": [
      "Sunil\n",
      "Sunita\n",
      "Sanju\n",
      "Tankadhar\n",
      "Jashmin\n"
     ]
    }
   ],
   "source": [
    "#iterate the list using index\n",
    "lst = ['Sunil','Sunita','Sanju','Tankadhar','Jashmin']\n",
    "for index in range(len(lst)):\n",
    "    print(lst[index])"
   ]
  },
  {
   "cell_type": "code",
   "execution_count": 10,
   "metadata": {},
   "outputs": [
    {
     "name": "stdout",
     "output_type": "stream",
     "text": [
      "Sunil\n",
      "Sunita\n",
      "Sanju\n",
      "Tankadhar\n",
      "Jashmin\n"
     ]
    }
   ],
   "source": [
    "#or\n",
    "for index in lst:\n",
    "    print(index)"
   ]
  },
  {
   "cell_type": "code",
   "execution_count": 9,
   "metadata": {},
   "outputs": [
    {
     "name": "stdout",
     "output_type": "stream",
     "text": [
      "Sunita\n"
     ]
    }
   ],
   "source": [
    "print(lst[1])"
   ]
  },
  {
   "cell_type": "code",
   "execution_count": 11,
   "metadata": {},
   "outputs": [
    {
     "name": "stdout",
     "output_type": "stream",
     "text": [
      "1\n",
      "2\n",
      "3\n",
      "Done\n"
     ]
    }
   ],
   "source": [
    "num = [1,2,3]\n",
    "for i in num:\n",
    "    print(i)\n",
    "else:\n",
    "    print(\"Done\")"
   ]
  },
  {
   "cell_type": "code",
   "execution_count": 12,
   "metadata": {},
   "outputs": [
    {
     "name": "stdout",
     "output_type": "stream",
     "text": [
      "10 is devided by 2\n",
      "12 is devided by 2\n",
      "14 is devided by 2\n",
      "16 is devided by 2\n",
      "18 is devided by 2\n",
      "20 is devided by 2\n",
      "22 is devided by 2\n",
      "24 is devided by 2\n",
      "26 is devided by 2\n",
      "28 is devided by 2\n",
      "30 is devided by 2\n"
     ]
    }
   ],
   "source": [
    "# write an programe in for loop to find whic is divisible by 2\n",
    "\n",
    "interval1 = 10\n",
    "interval2 = 30\n",
    "for i in range(interval1,interval2+1):\n",
    "    if i % 2 == 0:\n",
    "        print(\"{} is devided by 2\".format(i))\n",
    "    \n"
   ]
  },
  {
   "cell_type": "code",
   "execution_count": 26,
   "metadata": {},
   "outputs": [
    {
     "name": "stdout",
     "output_type": "stream",
     "text": [
      "Prime numbers between 10 and 20 are:\n",
      "11\n",
      "13\n",
      "17\n",
      "19\n"
     ]
    }
   ],
   "source": [
    "# write an programe in for loop to find prime numbers.\n",
    "index1 = 10\n",
    "index2 = 20\n",
    "print('Prime numbers between {} and {} are:'.format(index1,index2))\n",
    "for num in range(index1,index2+1):\n",
    "    if num > 1:\n",
    "        isDivisible = False\n",
    "        for index in range (2,num):\n",
    "            if num % index ==0:\n",
    "                isDivisible = True\n",
    "        if not isDivisible:\n",
    "            print(num);\n",
    "            \n",
    "                "
   ]
  },
  {
   "cell_type": "markdown",
   "metadata": {},
   "source": [
    "**Break in For and while Loop**\n",
    "The interpriter come out from the loop. even it ignores else part of the block\n"
   ]
  },
  {
   "cell_type": "code",
   "execution_count": 35,
   "metadata": {},
   "outputs": [
    {
     "name": "stdout",
     "output_type": "stream",
     "text": [
      "1\n",
      "2\n",
      "3\n",
      "outside for loop\n"
     ]
    }
   ],
   "source": [
    "num = [1,2,3,4]\n",
    "for n in num:\n",
    "    if n == 4:\n",
    "        break\n",
    "    print(n)\n",
    "else:\n",
    "    print(\"in the else block\")\n",
    "print(\"outside for loop\")"
   ]
  },
  {
   "cell_type": "code",
   "execution_count": 38,
   "metadata": {},
   "outputs": [
    {
     "name": "stdout",
     "output_type": "stream",
     "text": [
      "20 is divisible by 2\n",
      "20 is not a prime number\n"
     ]
    }
   ],
   "source": [
    "#FInd a prime num and use break to make your code efficient.\n",
    "num = int(input(\"Please enter a number\"))\n",
    "isDivisible = False\n",
    "i = 2\n",
    "\n",
    "while i < num:\n",
    "    if num % i == 0:\n",
    "        isDivisible = True\n",
    "        print(\"{} is divisible by {}\".format(num,i))\n",
    "    break\n",
    "if isDivisible:\n",
    "    print(\"{} is not a prime number\".format(num))\n",
    "else:\n",
    "    print(\"{} is an prime number\".format(num))"
   ]
  },
  {
   "cell_type": "markdown",
   "metadata": {},
   "source": [
    "**Continue**\n",
    "it will take to the next iteration in a loop not to the next block. But this will just send it back to for loop then it will go to else but in the case of break, it does not go to else part.\n"
   ]
  },
  {
   "cell_type": "code",
   "execution_count": 1,
   "metadata": {},
   "outputs": [
    {
     "name": "stdout",
     "output_type": "stream",
     "text": [
      "1\n",
      "3\n",
      "5\n",
      "7\n",
      "print else block\n"
     ]
    }
   ],
   "source": [
    "num = [1,2,3,4,5,6,7]\n",
    "\n",
    "for i in num:\n",
    "   if i % 2 == 0:\n",
    "      continue\n",
    "   print(i)\n",
    "else:\n",
    "   print(\"print else block\")\n",
    "      "
   ]
  },
  {
   "cell_type": "code",
   "execution_count": null,
   "metadata": {},
   "outputs": [],
   "source": [
    "sk"
   ]
  }
 ],
 "metadata": {
  "kernelspec": {
   "display_name": ".venv",
   "language": "python",
   "name": "python3"
  },
  "language_info": {
   "codemirror_mode": {
    "name": "ipython",
    "version": 3
   },
   "file_extension": ".py",
   "mimetype": "text/x-python",
   "name": "python",
   "nbconvert_exporter": "python",
   "pygments_lexer": "ipython3",
   "version": "3.9.13"
  },
  "orig_nbformat": 4
 },
 "nbformat": 4,
 "nbformat_minor": 2
}
