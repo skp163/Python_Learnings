{
 "cells": [
  {
   "cell_type": "code",
   "execution_count": 6,
   "metadata": {},
   "outputs": [
    {
     "name": "stdout",
     "output_type": "stream",
     "text": [
      "Jay Jagannatha, Jay MaaLaxmi\n"
     ]
    }
   ],
   "source": [
    "print('Jay {}, Jay {}'.format(\"Jagannatha\",\"MaaLaxmi\"))"
   ]
  },
  {
   "cell_type": "markdown",
   "metadata": {},
   "source": [
    "##Standard Indentation - 4 spaces.\n",
    "#Data Types\n",
    "- function to check - type(), isinstance()\n",
    "- Integer, float, string, Boolean, complex, List, Tuple, Dictionary\n",
    "- Strings - Can store Unicode characters (mean all kind of character, symbols,special-char etc)\n",
    "\t- Multiline strings can be stored within triple quotes (''') or (\"\"\") \n",
    "- 1+2j - Complex\n",
    "- Everything is an object in Python.\n",
    "- Everything is indexed from 0.\n",
    "\t- Example : s = 'IamSunil'\n",
    "\t- print(s[2]), print(s[-2])\n",
    "\t- Returns - m, Returns - i\n",
    "\t- print(s[len(s)-1]).  returns -l\n",
    "- Slicing\n",
    "\t- print(s[5: ]), returns - nil\n",
    "\t- print(s[5:6]), it will return from 5th char to 5th char. not return 6th char.\n",
    "- List\n",
    "\t- Ordered sequence of items. Mutable, flexible, mostly used datatype, all items need not to belongs to one data types.\n",
    "\t- Enclosed with [].\n",
    "\t- Ex - a = [1, 1.2, 'b']\n",
    "\t- print(a[1]), returns - 1.2\n",
    "\t- Mutable - a[1] = 3, it will replace 1.2 with 3 in the list.\n",
    "- Tuple\n",
    "\t- Same as list. Ordered sequence of items. But tuple is immutable enclosed with (). Once created can not be modified.\n",
    "\t- Example - a = (1, 2, 1.1, 'Sunil'), print([2]), returns - 1.1\n",
    "\t- a[1] = 5, returns error as tuples can not be modified.\n",
    "- Sets\n",
    "\t- Unordered collection of unique items.\n",
    "\t- Values separated by comma enclosed with {}.\n",
    "\t-  Example a = {3,2,1,1,2}, print(a), returns - {1,2,3} , duplicated will be ignored\n",
    "\t- Can be used for Union, Intersection of 2 sets.\n",
    "\t- We can't print a particular element from a set because it is unordered collection. Ex - a[2], returns error. Doesn't support indexing\n",
    "- Dictionary\n",
    "\t- Unordered collection of key-value pairs.\n",
    "\t- Within {} and separated by key:values. Key and values can be of any data types.\n",
    "\t- Ex - b = { 'Name':'Sunil', 'Profession':'Salaried'}, print(b['Name']), returns 'Sunil'\n",
    "\t- Its like hash table in C.\n",
    "\n",
    "How to convert data types one to another\n",
    "\n",
    "- can be converted by functions like int(), float(),  str()\n",
    "- Ex - float(5), returns - 5.0, int(100.0), returns - 100, str(20), returns - \"20\"\n",
    "- Conversions from and to should be compatible values. Ex - int('10p'), returns invalid literal\n",
    "- Concatination of different data types.\n",
    "\t- Ex - User = \"Sunil\" , Lines = 100\n",
    "\t- Print(\"Congrats,\" + User + \"Your Line : \" + str(Lines) + \"Thanks\"\n",
    "- Ex - a = [1, 2, 3], s = set(a), print(type(s)), returns set.\n",
    "-  Converting string to lists using list() methods.\n",
    "\t- Ex - a = \"Sunil\", list(a), returns - [\"S\", \"u\", \"n\", \"i\", \"l\"]\n",
    "##Output and Input\n",
    "- a = 10\n",
    "- print(\"Sunil\"), print(\"Sunil\", a), print(\"sunil\",str(a))\n",
    "- Multiple statements in single line:\n",
    "\t- a = 10; b=20\n",
    "\t- print( \"a is { } and b is { }\".format(a,b)) \n",
    "\t- print(\"a is {1} and b is {0}\".format(a,b)) ,return - a is 20 and  b is 10 because it will take the index of a as 0 and b as 1 as we put in the format.\n",
    "\t- we can use keyword arguments to format the strings\n",
    "\t\t- print( \"Hello {name}, {greetings}.format(name=\"Sunil\",greetings=\"Good Morning!\"))\n",
    "Input\n",
    "- a = input(\"enter a value\"), print(a)"
   ]
  },
  {
   "cell_type": "code",
   "execution_count": 7,
   "metadata": {},
   "outputs": [
    {
     "name": "stdout",
     "output_type": "stream",
     "text": [
      "123\n"
     ]
    }
   ],
   "source": [
    "a=input(\"Enter a value\")\n",
    "print(a)"
   ]
  },
  {
   "cell_type": "markdown",
   "metadata": {},
   "source": [
    "##Operators\n",
    "**Mathemetical Operator**\n",
    "+,-,*,/,% Modulo division(means gives remainder), // floor division(means nearest integer after devide and it should be less than the exact flot number  like 7.5 = 7 or -7.5 =8), ** exponent\n",
    "**Compairsion Operators**\n",
    "<,>,<=,>=,!=,=\n",
    "**Logical Operators**\n",
    "and,or,,not\n",
    "*For And - TT=T, TF=F, FF=F,FT=F*\n",
    "*For or - TT=T,TF=T, FF-F,FT=T*\n",
    "Example Below:\n"
   ]
  },
  {
   "cell_type": "code",
   "execution_count": 9,
   "metadata": {},
   "outputs": [
    {
     "name": "stdout",
     "output_type": "stream",
     "text": [
      "False\n",
      "False\n",
      "True\n",
      "True\n"
     ]
    }
   ],
   "source": [
    "a,b = True,False\n",
    "print(a and b)\n",
    "print(b and a)\n",
    "print(a or b)\n",
    "print(b or a)"
   ]
  },
  {
   "cell_type": "markdown",
   "metadata": {},
   "source": [
    "**Bitwise Operators**\n",
    "&, |, ~, ^, >>, <<\n",
    "Example - a,b = 10,4 print(a & b)\n",
    "\n",
    "**Assignment Operators**\n",
    "=,+=,==,*=,/=,%=,//=,**=,&=,|=, ^=, >>=, <<=\n",
    "\n",
    "a += 10, returns 20 because it means a= a+10 simillarly, a -= 10 mean a=a-10, *= mean a=a*10 etc\n",
    "\n",
    "**identity Operators**\n",
    "is, is not   (they chaeck if two values or variables are stored in the same part of memory.)\n",
    "a=5, b = 5, print(a is b)\n",
    "these operators works in the above format not for  list, tupples, complex format. it will work for strings a = \"sunil\" , b=\"sunil\", print(a is b), returns- true\n",
    "\n",
    "**Membership Operator**\n",
    "in, not in"
   ]
  },
  {
   "cell_type": "code",
   "execution_count": 12,
   "metadata": {},
   "outputs": [
    {
     "name": "stdout",
     "output_type": "stream",
     "text": [
      "True\n",
      "True\n"
     ]
    }
   ],
   "source": [
    "lst = [1,2,3]\n",
    "print(2 in lst)\n",
    "\n",
    "d = {1:'a',2:'b'}\n",
    "print(1 in d)  #we can check only keys  not values in dictionary data types."
   ]
  },
  {
   "cell_type": "markdown",
   "metadata": {},
   "source": [
    "##Control Loop : if , elif, else\n"
   ]
  },
  {
   "cell_type": "code",
   "execution_count": 17,
   "metadata": {},
   "outputs": [
    {
     "name": "stdout",
     "output_type": "stream",
     "text": [
      "False\n",
      "True\n",
      "False\n",
      "False\n"
     ]
    }
   ],
   "source": [
    "a = 10\n",
    "if a > 10:\n",
    "    print(\"True\")\n",
    "print(\"False\") # This will always false\n",
    "\n",
    "a = 10\n",
    "if a == 10:\n",
    "    print(\"True\")\n",
    "print(\"False\") \n",
    "\n",
    "a = 10\n",
    "if a- 10:\n",
    "    print(\"True\")\n",
    "print(\"False\") # This returns false as every 0, Flase, None is considered False in python"
   ]
  },
  {
   "cell_type": "markdown",
   "metadata": {},
   "source": [
    "**If...Else**\n"
   ]
  },
  {
   "cell_type": "code",
   "execution_count": 18,
   "metadata": {},
   "outputs": [
    {
     "name": "stdout",
     "output_type": "stream",
     "text": [
      "a is not grater than 10\n"
     ]
    }
   ],
   "source": [
    "a = 10\n",
    "if a >10:\n",
    "    print(\"a is grater than 10\")\n",
    "else:\n",
    "    print(\"a is not grater than 10\")"
   ]
  },
  {
   "cell_type": "markdown",
   "metadata": {},
   "source": [
    "**if..elif..else**"
   ]
  },
  {
   "cell_type": "code",
   "execution_count": 21,
   "metadata": {},
   "outputs": [
    {
     "name": "stdout",
     "output_type": "stream",
     "text": [
      "num > 10\n"
     ]
    }
   ],
   "source": [
    "num = 100\n",
    "if num<10:\n",
    "    print(\"Num < 10\")\n",
    "elif num == 10:\n",
    "   print(\"num = 10\")\n",
    "else:\n",
    "   print(\"num > 10\")"
   ]
  },
  {
   "cell_type": "markdown",
   "metadata": {},
   "source": [
    "**Nested If**"
   ]
  },
  {
   "cell_type": "code",
   "execution_count": 24,
   "metadata": {},
   "outputs": [
    {
     "name": "stdout",
     "output_type": "stream",
     "text": [
      "a not equals to 0\n"
     ]
    }
   ],
   "source": [
    "a = 30\n",
    "if a >= 30:\n",
    "    if a == 0:\n",
    "        print(\"a = 0\")\n",
    "    else:\n",
    "        print(\"a not equals to 0\")\n",
    "else:\n",
    "    print(\"a >= 0\")\n"
   ]
  },
  {
   "cell_type": "code",
   "execution_count": 31,
   "metadata": {},
   "outputs": [
    {
     "name": "stdout",
     "output_type": "stream",
     "text": [
      " c is the largest\n",
      "The largest number is:60\n"
     ]
    },
    {
     "data": {
      "text/plain": [
       "'if a > b:\\n    if a > c:\\n        print(\"a is largest element\")\\n        if b > a:\\n            if b > c:\\n            print (\"b is largest element\")\\n                if c > a:\\n                    if a > b:\\n                        print(\"C is the largest One\")\\n                    else:\\n                        print(\"C is not largest\")\\n                else:\\n                    print (\"B is not largest\")\\n            else:\\n                print(\"C is not largest\")\\n        else:\\n            print(\"don\\'t know\")\\n    else:\\n        print(\"i don\\'t know\")\\n else:\\n    print(\"knowbody knows\")'"
      ]
     },
     "execution_count": 31,
     "metadata": {},
     "output_type": "execute_result"
    }
   ],
   "source": [
    "# Find the largest element \n",
    "a = 10\n",
    "b = 50\n",
    "c = 60\n",
    "\n",
    "\n",
    "if (a >= b) and (a >= c):\n",
    "    print(\"A is the largest\")\n",
    "elif (b >= c) and (b >= a):\n",
    "    print(\"b is the largest\")\n",
    "else:\n",
    "    print(\" c is the largest\")\n",
    "\n",
    "#######\n",
    "\n",
    "if (a >= b) and (a >= c):\n",
    "    Largest = a\n",
    "elif (b >= c) and (b >= a):\n",
    "    Largest = b\n",
    "else:\n",
    "    Largest = c\n",
    "print(\"The largest number is:{}\".format(Largest))\n",
    "\n",
    "\n",
    "\n",
    "\"\"\"if a > b:\n",
    "    if a > c:\n",
    "        print(\"a is largest element\")\n",
    "        if b > a:\n",
    "            if b > c:\n",
    "            print (\"b is largest element\")\n",
    "                if c > a:\n",
    "                    if a > b:\n",
    "                        print(\"C is the largest One\")\n",
    "                    else:\n",
    "                        print(\"C is not largest\")\n",
    "                else:\n",
    "                    print (\"B is not largest\")\n",
    "            else:\n",
    "                print(\"C is not largest\")\n",
    "        else:\n",
    "            print(\"don't know\")\n",
    "    else:\n",
    "        print(\"i don't know\")\n",
    " else:\n",
    "    print(\"knowbody knows\")\"\"\"\n",
    "\n"
   ]
  },
  {
   "cell_type": "markdown",
   "metadata": {},
   "source": [
    "## While Loop \n",
    "used in python over a block of code as long as the test expression is true.\n",
    "Ex -\n",
    "Find a product of all numbers present in a list.\n",
    "lst = [10,20,30,40,60,50]    Expression - lst(0)*list(1)*lst(2),,,,,,,*lst(5)\n",
    "\n",
    "product = 1\n",
    "index = 0\n"
   ]
  },
  {
   "cell_type": "code",
   "execution_count": 3,
   "metadata": {},
   "outputs": [
    {
     "name": "stdout",
     "output_type": "stream",
     "text": [
      "Product = 720000000\n"
     ]
    }
   ],
   "source": [
    "lst = [10,20,30,40,60,50] \n",
    "\n",
    "product = 1\n",
    "index = 0\n",
    "\n",
    "while index < len(lst):\n",
    "    product *= lst[index]\n",
    "    index += 1\n",
    "\n",
    "print(\"Product = {}\".format(product))"
   ]
  },
  {
   "cell_type": "markdown",
   "metadata": {},
   "source": [
    "**While loop with else**\n",
    "Else part is excuted if the while part is False. The whileloop can be break with break statement else it will run infinity times. If no breks occur and while part is false then else part runs continiously. "
   ]
  },
  {
   "cell_type": "code",
   "execution_count": 12,
   "metadata": {},
   "outputs": [
    {
     "name": "stdout",
     "output_type": "stream",
     "text": [
      "1\n",
      "2\n",
      "3\n",
      "4\n",
      "end\n"
     ]
    }
   ],
   "source": [
    "a= [1,2,3,4]\n",
    "index = 0\n",
    "while index < len(a):\n",
    "    print(a[index])\n",
    "    index += 1\n",
    "else:\n",
    "    print(\"end\")\n"
   ]
  },
  {
   "cell_type": "code",
   "execution_count": 7,
   "metadata": {},
   "outputs": [
    {
     "name": "stdout",
     "output_type": "stream",
     "text": [
      "1\n",
      "2\n",
      "3\n",
      "4\n",
      "5\n",
      "6\n",
      "7\n",
      "8\n",
      "9\n",
      "10\n",
      "9\n",
      "8\n",
      "7\n",
      "6\n",
      "5\n",
      "4\n",
      "3\n",
      "2\n",
      "1\n",
      "0\n",
      "end\n"
     ]
    }
   ],
   "source": [
    "#Itreate 1 to 10 and back from 10 to 1\n",
    "a = 1\n",
    "index = 0\n",
    "\n",
    "while index < 10:\n",
    "    print(index+a)\n",
    "    index +=1\n",
    "else:\n",
    "    while index >= 1:\n",
    "        print(index-1)\n",
    "        index -=1\n",
    "    else:\n",
    "        print(\"end\")\n",
    "\n"
   ]
  },
  {
   "cell_type": "code",
   "execution_count": 28,
   "metadata": {},
   "outputs": [
    {
     "name": "stdout",
     "output_type": "stream",
     "text": [
      "16 is divisible by 2\n",
      "16 is divisible by 4\n",
      "16 is divisible by 8\n",
      "16 is not a prime number\n"
     ]
    }
   ],
   "source": [
    "#Find a prime number\n",
    "num = int(input(\"input a number: \"))\n",
    "i = 2\n",
    "isDivisible = False;\n",
    "\n",
    "while i < num:\n",
    "    if num % i == 0:\n",
    "        isDivisible = True\n",
    "        print(\"{} is divisible by {}\".format(num,i))\n",
    "    i +=1;\n",
    "\n",
    "if isDivisible:\n",
    "    print(\"{} is not a prime number\".format(num))\n",
    "else:\n",
    "    print(\"{} is an prime number\".format(num))\n",
    "\n"
   ]
  },
  {
   "cell_type": "markdown",
   "metadata": {},
   "source": [
    "**For Loop**\n",
    "Used to iterate over a sequence (list, tupple, strings). Itreting over a squence is called trasversal."
   ]
  },
  {
   "cell_type": "code",
   "execution_count": 1,
   "metadata": {},
   "outputs": [
    {
     "name": "stdout",
     "output_type": "stream",
     "text": [
      "Product is 12000000\n"
     ]
    }
   ],
   "source": [
    "lst = [10,20,30,40,50]\n",
    "product = 1\n",
    "for ele in lst:\n",
    "    product *= ele\n",
    "print(\"Product is {}\".format(product))"
   ]
  },
  {
   "cell_type": "markdown",
   "metadata": {},
   "source": [
    "**Range Fun**\n",
    "Generate a sequence of numbers using range function. range(10) will generate from 0 to 9(10 numbers).\n",
    "We can also define start,stop, step size. If not provided it will take default to 1. It doesnot store all the numbers in the memory, it only keeps start,stop and step size and keep itreting on the go.\n",
    "it does not produce list"
   ]
  },
  {
   "cell_type": "code",
   "execution_count": 3,
   "metadata": {},
   "outputs": [
    {
     "name": "stdout",
     "output_type": "stream",
     "text": [
      "0\n",
      "1\n",
      "2\n",
      "3\n",
      "4\n",
      "5\n",
      "6\n",
      "7\n",
      "8\n",
      "9\n",
      "1\n",
      "3\n",
      "5\n",
      "7\n",
      "9\n",
      "11\n",
      "13\n",
      "15\n",
      "17\n",
      "19\n"
     ]
    }
   ],
   "source": [
    "for i in range(10):\n",
    "    print(i)\n",
    "\n",
    "for i in range(1,20,2):\n",
    "    print(i)"
   ]
  },
  {
   "cell_type": "code",
   "execution_count": 7,
   "metadata": {},
   "outputs": [
    {
     "name": "stdout",
     "output_type": "stream",
     "text": [
      "Sunil\n",
      "Sunita\n",
      "Sanju\n",
      "Tankadhar\n",
      "Jashmin\n"
     ]
    }
   ],
   "source": [
    "#iterate the list using index\n",
    "lst = ['Sunil','Sunita','Sanju','Tankadhar','Jashmin']\n",
    "for index in range(len(lst)):\n",
    "    print(lst[index])"
   ]
  },
  {
   "cell_type": "code",
   "execution_count": 10,
   "metadata": {},
   "outputs": [
    {
     "name": "stdout",
     "output_type": "stream",
     "text": [
      "Sunil\n",
      "Sunita\n",
      "Sanju\n",
      "Tankadhar\n",
      "Jashmin\n"
     ]
    }
   ],
   "source": [
    "#or\n",
    "for index in lst:\n",
    "    print(index)"
   ]
  },
  {
   "cell_type": "code",
   "execution_count": 9,
   "metadata": {},
   "outputs": [
    {
     "name": "stdout",
     "output_type": "stream",
     "text": [
      "Sunita\n"
     ]
    }
   ],
   "source": [
    "print(lst[1])"
   ]
  },
  {
   "cell_type": "code",
   "execution_count": 11,
   "metadata": {},
   "outputs": [
    {
     "name": "stdout",
     "output_type": "stream",
     "text": [
      "1\n",
      "2\n",
      "3\n",
      "Done\n"
     ]
    }
   ],
   "source": [
    "num = [1,2,3]\n",
    "for i in num:\n",
    "    print(i)\n",
    "else:\n",
    "    print(\"Done\")"
   ]
  },
  {
   "cell_type": "code",
   "execution_count": 12,
   "metadata": {},
   "outputs": [
    {
     "name": "stdout",
     "output_type": "stream",
     "text": [
      "10 is devided by 2\n",
      "12 is devided by 2\n",
      "14 is devided by 2\n",
      "16 is devided by 2\n",
      "18 is devided by 2\n",
      "20 is devided by 2\n",
      "22 is devided by 2\n",
      "24 is devided by 2\n",
      "26 is devided by 2\n",
      "28 is devided by 2\n",
      "30 is devided by 2\n"
     ]
    }
   ],
   "source": [
    "# write an programe in for loop to find whic is divisible by 2\n",
    "\n",
    "interval1 = 10\n",
    "interval2 = 30\n",
    "for i in range(interval1,interval2+1):\n",
    "    if i % 2 == 0:\n",
    "        print(\"{} is devided by 2\".format(i))\n",
    "    \n"
   ]
  },
  {
   "cell_type": "code",
   "execution_count": 26,
   "metadata": {},
   "outputs": [
    {
     "name": "stdout",
     "output_type": "stream",
     "text": [
      "Prime numbers between 10 and 20 are:\n",
      "11\n",
      "13\n",
      "17\n",
      "19\n"
     ]
    }
   ],
   "source": [
    "# write an programe in for loop to find prime numbers.\n",
    "index1 = 10\n",
    "index2 = 20\n",
    "print('Prime numbers between {} and {} are:'.format(index1,index2))\n",
    "for num in range(index1,index2+1):\n",
    "    if num > 1:\n",
    "        isDivisible = False\n",
    "        for index in range (2,num):\n",
    "            if num % index ==0:\n",
    "                isDivisible = True\n",
    "        if not isDivisible:\n",
    "            print(num);\n",
    "            \n",
    "                "
   ]
  },
  {
   "cell_type": "markdown",
   "metadata": {},
   "source": [
    "**Break in For and while Loop**\n",
    "The interpriter come out from the loop. even it ignores else part of the block\n"
   ]
  },
  {
   "cell_type": "code",
   "execution_count": 35,
   "metadata": {},
   "outputs": [
    {
     "name": "stdout",
     "output_type": "stream",
     "text": [
      "1\n",
      "2\n",
      "3\n",
      "outside for loop\n"
     ]
    }
   ],
   "source": [
    "num = [1,2,3,4]\n",
    "for n in num:\n",
    "    if n == 4:\n",
    "        break\n",
    "    print(n)\n",
    "else:\n",
    "    print(\"in the else block\")\n",
    "print(\"outside for loop\")"
   ]
  },
  {
   "cell_type": "code",
   "execution_count": 38,
   "metadata": {},
   "outputs": [
    {
     "name": "stdout",
     "output_type": "stream",
     "text": [
      "20 is divisible by 2\n",
      "20 is not a prime number\n"
     ]
    }
   ],
   "source": [
    "#FInd a prime num and use break to make your code efficient.\n",
    "num = int(input(\"Please enter a number\"))\n",
    "isDivisible = False\n",
    "i = 2\n",
    "\n",
    "while i < num:\n",
    "    if num % i == 0:\n",
    "        isDivisible = True\n",
    "        print(\"{} is divisible by {}\".format(num,i))\n",
    "    break\n",
    "if isDivisible:\n",
    "    print(\"{} is not a prime number\".format(num))\n",
    "else:\n",
    "    print(\"{} is an prime number\".format(num))"
   ]
  },
  {
   "cell_type": "markdown",
   "metadata": {},
   "source": [
    "**Continue**\n",
    "it will take to the next iteration in a loop not to the next block. But this will just send it back to for loop then it will go to else but in the case of break, it does not go to else part.\n"
   ]
  },
  {
   "cell_type": "code",
   "execution_count": 1,
   "metadata": {},
   "outputs": [
    {
     "name": "stdout",
     "output_type": "stream",
     "text": [
      "1\n",
      "3\n",
      "5\n",
      "7\n",
      "print else block\n"
     ]
    }
   ],
   "source": [
    "num = [1,2,3,4,5,6,7]\n",
    "\n",
    "for i in num:\n",
    "   if i % 2 == 0:\n",
    "      continue\n",
    "   print(i)\n",
    "else:\n",
    "   print(\"print else block\")\n",
    "      "
   ]
  },
  {
   "cell_type": "markdown",
   "metadata": {},
   "source": [
    "# Lists\n",
    "Collection of strings, integers, other lists. Enclosed with [].\n",
    "Each item assigned with assigned index value. And separated by comma.\n",
    "Mutable.\n",
    "Example:\n",
    "\n"
   ]
  },
  {
   "cell_type": "code",
   "execution_count": 14,
   "metadata": {},
   "outputs": [
    {
     "name": "stdout",
     "output_type": "stream",
     "text": [
      "[['a', 'd'], [3, 2, 4, 5]]\n",
      "2\n",
      "[['a', 'd'], [3, 2, 4, 5], ['Sunil', 'Sunita']]\n",
      "[1, 1, 5, 3.5]\n",
      "[1, 1, 3.5]\n"
     ]
    }
   ],
   "source": [
    "a = [1,2,3] #List of integer\n",
    "b = ['a','v','c','d'] #List of strings\n",
    "c = [1,1,3.5] #List of different data types\n",
    "d = [['a','d'], [3,2,4,5]] #List of list\n",
    "\n",
    "print(d)\n",
    "\n",
    "print(len(d))\n",
    "\n",
    "#append\n",
    "\n",
    "d.append(['Sunil','Sunita'])\n",
    "print(d)\n",
    "\n",
    "#insert a element in a location list. Inseart 5 at 3rd place on list c.\n",
    "\n",
    "c.insert(2,5)\n",
    "print(c)\n",
    "\n",
    "#remove from list. if there are duplicate values in a list then it will remove the first occurance of that list not all duplicates.\n",
    "c.remove(5)\n",
    "print(c)"
   ]
  },
  {
   "cell_type": "markdown",
   "metadata": {},
   "source": [
    "**List Append and Extend**\n",
    "If a list got appended with list 2 then the list 2 will be in list. mean it wiuld be list in list.\n",
    "To join with another list and have all the elements in one list, you need to use extend function."
   ]
  },
  {
   "cell_type": "code",
   "execution_count": 15,
   "metadata": {},
   "outputs": [
    {
     "name": "stdout",
     "output_type": "stream",
     "text": [
      "[1, 1, 3.5, ['a', 'v', 'c', 'd']]\n"
     ]
    }
   ],
   "source": [
    "#appending list b with c\n",
    "c.append(b)\n",
    "print(c)\n"
   ]
  },
  {
   "cell_type": "code",
   "execution_count": 18,
   "metadata": {},
   "outputs": [
    {
     "name": "stdout",
     "output_type": "stream",
     "text": [
      "[1, 2, 4, 5, 's', 'U', 'N', 'I', 'L']\n"
     ]
    }
   ],
   "source": [
    "#Extend\n",
    "sk = [1,2,4,5]\n",
    "sp = ['s','U','N','I','L']\n",
    "sk.extend(sp)\n",
    "print(sk)"
   ]
  },
  {
   "cell_type": "markdown",
   "metadata": {},
   "source": [
    "**Delete List**\n",
    "Can do it in 2 ways - del and pop"
   ]
  },
  {
   "cell_type": "code",
   "execution_count": 24,
   "metadata": {},
   "outputs": [
    {
     "name": "stdout",
     "output_type": "stream",
     "text": [
      "['a', 'd', '1', '5']\n",
      "1\n",
      "['a', 'd', '5']\n",
      "['a', 'd']\n"
     ]
    }
   ],
   "source": [
    "w = ['a','c','d','1','5']\n",
    "del w[1]\n",
    "print(w) #c will be deleted\n",
    "\n",
    "nw = w.pop(2) # 1 will be deleted and assigned to nw\n",
    "print(nw)\n",
    "print(w)\n",
    "\n",
    "w.remove('5') # this go and remove '5' from the list\n",
    "print(w)"
   ]
  },
  {
   "cell_type": "markdown",
   "metadata": {},
   "source": [
    "**List related to keyword**"
   ]
  },
  {
   "cell_type": "code",
   "execution_count": 25,
   "metadata": {},
   "outputs": [
    {
     "name": "stdout",
     "output_type": "stream",
     "text": [
      "su is in lst\n"
     ]
    }
   ],
   "source": [
    "lst = ['1','2','Su','Ni','l']\n",
    "if 'Su' in lst:\n",
    "    print ('su is in lst')\n",
    "\n",
    "if 'Su' not in lst:\n",
    "    print ('Su not in lst')"
   ]
  },
  {
   "cell_type": "markdown",
   "metadata": {},
   "source": [
    "**List Reverse**\n",
    "lst.reserve()\n",
    "**List sorting**"
   ]
  },
  {
   "cell_type": "code",
   "execution_count": 35,
   "metadata": {},
   "outputs": [
    {
     "name": "stdout",
     "output_type": "stream",
     "text": [
      "Original list : ['Num', 'Bom', 'Tom']\n",
      "Sorted list : ['Bom', 'Num', 'Tom']\n",
      "My decending sort : ['Tom', 'Num', 'Bom']\n",
      "My decending sort 2: ['Tom', 'Num', 'Bom']\n",
      "My new sorted exisiting list: [1, 3, 5, 20, 40]\n"
     ]
    }
   ],
   "source": [
    "num = ['Num','Bom','Tom']\n",
    "my_sort = sorted(num) #assending order\n",
    "print('Original list :', num)\n",
    "print('Sorted list :', my_sort)\n",
    "\n",
    "my_sort_desc = sorted(num, reverse=True)\n",
    "print('My decending sort :', my_sort_desc)\n",
    "# We can write in following\n",
    "print('My decending sort 2:', sorted(num,reverse=True))\n",
    "\n",
    "# If I want to sort a list and put it back in the same list.\n",
    "we = [1,20,3,40,5]\n",
    "we.sort()\n",
    "print('My new sorted exisiting list:',we)\n",
    "\n",
    "#soerting i=will not happen in a list with differnt data types."
   ]
  },
  {
   "cell_type": "markdown",
   "metadata": {},
   "source": [
    "**List Referencing**"
   ]
  },
  {
   "cell_type": "code",
   "execution_count": 37,
   "metadata": {},
   "outputs": [
    {
     "name": "stdout",
     "output_type": "stream",
     "text": [
      "['a', 'd', 'e', 'r', 'e']\n"
     ]
    }
   ],
   "source": [
    "str = ['a','d','e','r']\n",
    "abc = str\n",
    "abc.append('e')\n",
    "print(abc)"
   ]
  },
  {
   "cell_type": "markdown",
   "metadata": {},
   "source": [
    "**SPliting a string to create a list**"
   ]
  },
  {
   "cell_type": "code",
   "execution_count": 41,
   "metadata": {},
   "outputs": [
    {
     "name": "stdout",
     "output_type": "stream",
     "text": [
      "['one', 'two', 'three', 'four', 'five']\n",
      "['This', 'is', 'a', 'good', 'line']\n"
     ]
    }
   ],
   "source": [
    "s = 'one,two,three,four,five'\n",
    "slt = s.split(',')\n",
    "print(slt)\n",
    "\n",
    "wr = 'This is a good line'\n",
    "er = wr.split() # So default split is by white space\n",
    "print(er)"
   ]
  },
  {
   "cell_type": "markdown",
   "metadata": {},
   "source": [
    "**Indexing in list**"
   ]
  },
  {
   "cell_type": "code",
   "execution_count": 45,
   "metadata": {},
   "outputs": [
    {
     "name": "stdout",
     "output_type": "stream",
     "text": [
      "5\n",
      "6\n"
     ]
    }
   ],
   "source": [
    "cdr = [1,2,4,5,3,7,6]\n",
    "print(cdr[3])\n",
    "print(cdr[-1])"
   ]
  },
  {
   "cell_type": "markdown",
   "metadata": {},
   "source": [
    "**Slicing**"
   ]
  },
  {
   "cell_type": "code",
   "execution_count": 51,
   "metadata": {},
   "outputs": [
    {
     "name": "stdout",
     "output_type": "stream",
     "text": [
      "[10, 20, 30, 40, 50, 60, 70]\n",
      "[10, 20, 30]\n",
      "[40, 50, 60, 70]\n",
      "[10, 30, 50, 70]\n",
      "[30, 50, 70]\n"
     ]
    }
   ],
   "source": [
    "number = [10,20,30,40,50,60,70]\n",
    "print(number[:]) # Print start to end\n",
    "print(number[:3]) #Print first 3 slice\n",
    "print(number[3:]) # print last 3 slice\n",
    "print(number[::2]) # 2 is the step size. and before semicolon we can specify starting index and ending index\n",
    "print(number[2:7:2])"
   ]
  },
  {
   "cell_type": "code",
   "execution_count": 59,
   "metadata": {},
   "outputs": [
    {
     "name": "stdout",
     "output_type": "stream",
     "text": [
      "[1, 2, 4, 5, 6, 7, 3, 3, 43, 45, 65, 67, 65, 7, 2, 3, 3, 4]\n",
      "4\n"
     ]
    }
   ],
   "source": [
    "# addition in list using +\n",
    "se =  [1,2,4,5,6,7,3,3]\n",
    "er =[43,45,65,67,65,7,2,3,3,4]\n",
    "pe = se+er\n",
    "print(pe)\n",
    "print(pe.count(3)) # shows how many times the element exists in the list, frequency\n"
   ]
  },
  {
   "cell_type": "markdown",
   "metadata": {},
   "source": [
    "**List Looping**"
   ]
  },
  {
   "cell_type": "code",
   "execution_count": 62,
   "metadata": {},
   "outputs": [
    {
     "name": "stdout",
     "output_type": "stream",
     "text": [
      "One\n",
      "Two\n",
      "Three\n",
      "Four\n",
      "Five\n"
     ]
    }
   ],
   "source": [
    "new = ['One','Two','Three','Four','Five']\n",
    "\n",
    "for i in new:\n",
    "    print (i)"
   ]
  },
  {
   "cell_type": "code",
   "execution_count": 66,
   "metadata": {},
   "outputs": [
    {
     "name": "stdout",
     "output_type": "stream",
     "text": [
      "[0, 2, 4, 6, 8, 10, 12, 14, 16, 18]\n",
      "[(0, 0), (1, 1), (2, 4), (3, 9), (4, 16), (5, 25), (6, 36), (7, 49), (8, 64), (9, 81)]\n"
     ]
    }
   ],
   "source": [
    "#List comprehension\n",
    "squ = []\n",
    "for i in range(10): \n",
    "    squ.append(i*2)\n",
    "print(squ)\n",
    "\n",
    "#Create a list of tuples with squres\n",
    "new_list = [(i,i**2) for i in range(10)]\n",
    "print(new_list)"
   ]
  },
  {
   "cell_type": "markdown",
   "metadata": {},
   "source": [
    "**Nested list comprehension**"
   ]
  },
  {
   "cell_type": "code",
   "execution_count": 70,
   "metadata": {},
   "outputs": [
    {
     "name": "stdout",
     "output_type": "stream",
     "text": [
      "[[1, 5, 10], [2, 6, 11], [3, 7, 12], [4, 8, 23]]\n"
     ]
    }
   ],
   "source": [
    "matrix = [\n",
    "    [1,2,3,4],\n",
    "    [5,6,7,8,9],\n",
    "    [10,11,12,23]\n",
    "]\n",
    "\n",
    "#Transpose a list without list comprehention\n",
    "transposed = []\n",
    "for i in range(4) :\n",
    "    lst = []\n",
    "    for row in matrix:\n",
    "        lst.append(row[i])\n",
    "    transposed.append(lst)\n",
    "print(transposed)"
   ]
  },
  {
   "cell_type": "markdown",
   "metadata": {},
   "source": [
    "#Tuples\n",
    "Can't change any elements of a tuple. Its immutable\n",
    "Can have different data types in side tuple.\n",
    "enclosed with parenthesis and comma. where parenthesis is optional.\n",
    "you can write a = ('s',) also you can write a = 's',"
   ]
  },
  {
   "cell_type": "code",
   "execution_count": 6,
   "metadata": {},
   "outputs": [
    {
     "name": "stdout",
     "output_type": "stream",
     "text": [
      "(1, 2, 3, 4, 5)\n",
      "(1, 2, 's', 'k', 32)\n",
      "((1, 2, 3), ['s', 'd', 't'])\n"
     ]
    },
    {
     "data": {
      "text/plain": [
       "tuple"
      ]
     },
     "execution_count": 6,
     "metadata": {},
     "output_type": "execute_result"
    }
   ],
   "source": [
    "ta = () #empty tuple\n",
    "tab = (1,2,3,4,5)\n",
    "print(tab)\n",
    "tam = (1,2,'s','k',32) #tuple having different data types\n",
    "print(tam)\n",
    "ntab = ((1,2,3),['s','d','t']) # nested tuple\n",
    "print(ntab)\n",
    "\n",
    "wq = ('a')\n",
    "type(wq)\n",
    "wa = ('a',)\n",
    "type(wa)\n",
    "qw = 'a',\n",
    "type(qw)"
   ]
  },
  {
   "cell_type": "markdown",
   "metadata": {},
   "source": [
    "**Accessing Elements in Tuple**\n",
    "print(sw[1:3]) # meaning starts from index 1 and upto index(n-1)"
   ]
  },
  {
   "cell_type": "code",
   "execution_count": 23,
   "metadata": {},
   "outputs": [
    {
     "name": "stdout",
     "output_type": "stream",
     "text": [
      "Murali\n",
      "Sp\n",
      "der\n",
      "('ser', 'de')\n",
      "('se', 'ser', 'de')\n",
      "('de', 'der')\n",
      "('se', 'ser')\n"
     ]
    }
   ],
   "source": [
    "t = ('Satish','Murali','Sk','Sp')\n",
    "print(t[1]) # Same as list\n",
    "print(t[-1])\n",
    "sa = ('sk','sd','der',['se','der']) #if we need to access to 'der'\n",
    "print(sa[3][1])\n",
    "#Slicing, similar to list\n",
    "sw = ('se','ser','de','der','ser')\n",
    "print(sw[1:3]) \n",
    "print(sw[:3]) # starts from first element whose index is 0 and extracting 3 elements\n",
    "print(sw[2:]) # Strarts from last whose index is 1 and extracting 2\n",
    "print(sw[:-2])\n",
    "\n",
    "\n"
   ]
  },
  {
   "cell_type": "markdown",
   "metadata": {},
   "source": [
    "**Changinf Tuple**\n",
    "Tuples are immutable"
   ]
  },
  {
   "cell_type": "code",
   "execution_count": 25,
   "metadata": {},
   "outputs": [
    {
     "ename": "TypeError",
     "evalue": "'tuple' object does not support item assignment",
     "output_type": "error",
     "traceback": [
      "\u001b[0;31m---------------------------------------------------------------------------\u001b[0m",
      "\u001b[0;31mTypeError\u001b[0m                                 Traceback (most recent call last)",
      "Cell \u001b[0;32mIn[25], line 2\u001b[0m\n\u001b[1;32m      1\u001b[0m ad \u001b[39m=\u001b[39m (\u001b[39m'\u001b[39m\u001b[39msd\u001b[39m\u001b[39m'\u001b[39m,\u001b[39m'\u001b[39m\u001b[39mde\u001b[39m\u001b[39m'\u001b[39m,\u001b[39m'\u001b[39m\u001b[39mdf\u001b[39m\u001b[39m'\u001b[39m,\u001b[39m'\u001b[39m\u001b[39mde\u001b[39m\u001b[39m'\u001b[39m,\u001b[39m'\u001b[39m\u001b[39mde\u001b[39m\u001b[39m'\u001b[39m)\n\u001b[0;32m----> 2\u001b[0m ad[\u001b[39m2\u001b[39;49m] \u001b[39m=\u001b[39m \u001b[39m'\u001b[39m\u001b[39mx\u001b[39m\u001b[39m'\u001b[39m \u001b[39m#type error\u001b[39;00m\n\u001b[1;32m      4\u001b[0m adl \u001b[39m=\u001b[39m (\u001b[39m'\u001b[39m\u001b[39mase\u001b[39m\u001b[39m'\u001b[39m,\u001b[39m'\u001b[39m\u001b[39mdfd\u001b[39m\u001b[39m'\u001b[39m,\u001b[39m'\u001b[39m\u001b[39mdfr\u001b[39m\u001b[39m'\u001b[39m,[\u001b[39m'\u001b[39m\u001b[39msde\u001b[39m\u001b[39m'\u001b[39m,\u001b[39m'\u001b[39m\u001b[39mder\u001b[39m\u001b[39m'\u001b[39m,\u001b[39m'\u001b[39m\u001b[39mded\u001b[39m\u001b[39m'\u001b[39m])\n\u001b[1;32m      5\u001b[0m adl[\u001b[39m3\u001b[39m][\u001b[39m1\u001b[39m] \u001b[39m=\u001b[39m \u001b[39m'\u001b[39m\u001b[39mSunil\u001b[39m\u001b[39m'\u001b[39m\n",
      "\u001b[0;31mTypeError\u001b[0m: 'tuple' object does not support item assignment"
     ]
    }
   ],
   "source": [
    "ad = ('sd','de','df','de','de')\n",
    "ad[2] = 'x' #type error\n"
   ]
  },
  {
   "cell_type": "code",
   "execution_count": 27,
   "metadata": {},
   "outputs": [
    {
     "name": "stdout",
     "output_type": "stream",
     "text": [
      "('ase', 'dfd', 'dfr', ['sde', 'Sunil', 'ded'])\n"
     ]
    }
   ],
   "source": [
    "adl = ('ase','dfd','dfr',['sde','der','ded']) # It modified in list not in tuple although it is inside a tuple\n",
    "adl[3][1] = 'Sunil'\n",
    "print(adl)"
   ]
  },
  {
   "cell_type": "code",
   "execution_count": 28,
   "metadata": {},
   "outputs": [
    {
     "name": "stdout",
     "output_type": "stream",
     "text": [
      "('a', 'a', 'a', 'a')\n"
     ]
    }
   ],
   "source": [
    "#Tuple multiply\n",
    "sk = (('a',)* 4 )\n",
    "print(sk)"
   ]
  },
  {
   "cell_type": "markdown",
   "metadata": {},
   "source": [
    "**Tuple deletion**\n",
    "As we can't change individual items from a tuple, we can't delete any item from the tuple.\n",
    "But we can delete enitre tuple\n"
   ]
  },
  {
   "cell_type": "code",
   "execution_count": 29,
   "metadata": {},
   "outputs": [],
   "source": [
    "del sk"
   ]
  },
  {
   "cell_type": "markdown",
   "metadata": {},
   "source": [
    "**TUPLE COUNT**"
   ]
  },
  {
   "cell_type": "code",
   "execution_count": 32,
   "metadata": {},
   "outputs": [
    {
     "data": {
      "text/plain": [
       "2"
      ]
     },
     "execution_count": 32,
     "metadata": {},
     "output_type": "execute_result"
    }
   ],
   "source": [
    "t = (1,2,3,4,5,6,6,7,8,8,10,9)\n",
    "t.count(8) # frequency of the element\n"
   ]
  },
  {
   "cell_type": "markdown",
   "metadata": {},
   "source": [
    "**Tuple Index**\n"
   ]
  },
  {
   "cell_type": "code",
   "execution_count": 33,
   "metadata": {},
   "outputs": [
    {
     "name": "stdout",
     "output_type": "stream",
     "text": [
      "5\n"
     ]
    }
   ],
   "source": [
    "print(t.index(6)) # returns the first element's position"
   ]
  },
  {
   "cell_type": "markdown",
   "metadata": {},
   "source": [
    "**Tuple Membership** In operator"
   ]
  },
  {
   "cell_type": "code",
   "execution_count": 34,
   "metadata": {},
   "outputs": [
    {
     "name": "stdout",
     "output_type": "stream",
     "text": [
      "True\n"
     ]
    }
   ],
   "source": [
    "ti = (1,2,3,4,5,6,7)\n",
    "print(1 in ti)"
   ]
  },
  {
   "cell_type": "markdown",
   "metadata": {},
   "source": [
    "**Built in functions in Tuple**"
   ]
  },
  {
   "cell_type": "code",
   "execution_count": 39,
   "metadata": {},
   "outputs": [
    {
     "name": "stdout",
     "output_type": "stream",
     "text": [
      "7\n",
      "[1, 2, 3, 4, 5, 6, 7]\n",
      "7\n",
      "1\n",
      "28\n"
     ]
    }
   ],
   "source": [
    "print(len(ti))\n",
    "ti_sort = sorted(ti)  # Creates a list after sorted as tuples are immutable.\n",
    "print(ti_sort)\n",
    "\n",
    "print(max(ti_sort))\n",
    "print(min(ti_sort))\n",
    "print(sum(ti_sort))"
   ]
  },
  {
   "cell_type": "markdown",
   "metadata": {},
   "source": [
    "# Sets\n",
    "Enclosed with curly braces {}.\n",
    "Unorder combination of items means can't be indexed. Every elemets is unique, no duplicates.\n",
    "Mutable.\n",
    "Can be used for mathemetical operations likeunion, intersection,symmentric difference etc.\n",
    "Set can not be use as a key in dict or anu hashable keys. But you can use frozenset.\n"
   ]
  },
  {
   "cell_type": "code",
   "execution_count": 53,
   "metadata": {},
   "outputs": [
    {
     "name": "stdout",
     "output_type": "stream",
     "text": [
      "{1, 2, 3, 4, 5}\n",
      "<class 'set'>\n",
      "{1, 2, 3, 4, 5, 6, 7}\n",
      "{1, 2, 3, 4, 5, 6, 7, 8}\n",
      "<class 'set'>\n",
      "{1, 2, 3, 4, 5, 6, 7, 8, 9}\n",
      "{1, 2, 3, 4, 5, 6, 7, 8, 9, 10, 11, 12, 13}\n",
      "{1, 2, 3, 4, 5, 6, 7, 8, 9, 10, 11, 12, 13, 14, 15, 16, 17, 18, 19}\n"
     ]
    }
   ],
   "source": [
    "#set creation\n",
    "s = {1,2,3,4,5}\n",
    "print(s)\n",
    "print(type(s))\n",
    "\n",
    "#don't allow duplicates\n",
    "t = {1,2,3,4,4,5,5,6,7}\n",
    "print(t)\n",
    "\n",
    "#can be made a set from a list.\n",
    "st = set([1,2,3,4,5,6,7,8])\n",
    "print(st)\n",
    "#initialize a set with set method.\n",
    "ts = set()\n",
    "print(type(ts))\n",
    "#can't be indexed as it is unordered.\n",
    "#print(st[1]) #type error\n",
    "\n",
    "# adding elements\n",
    "st.add(9)\n",
    "print(st)\n",
    "#add multiple elements\n",
    "st.update([10,11,12,13])\n",
    "print(st)\n",
    "#add list and set\n",
    "st.update([14,15], {16,17,18,19})\n",
    "print(st)"
   ]
  },
  {
   "cell_type": "markdown",
   "metadata": {},
   "source": [
    "**Sets, Dicts, Lists are mutable**\n",
    "**But tuple is immutable**"
   ]
  },
  {
   "cell_type": "code",
   "execution_count": 58,
   "metadata": {},
   "outputs": [
    {
     "name": "stdout",
     "output_type": "stream",
     "text": [
      "{1, 2, 3, 5, 7, 8, 9, 10}\n",
      "{2, 3, 5, 7, 8, 9, 10}\n",
      "set()\n"
     ]
    }
   ],
   "source": [
    "#remove elements from sets.\n",
    "str = {1,2,3,4,5,6,7,8,9,10}\n",
    "str.discard(4)\n",
    "str.remove(6) # both discard and remove function is same but if no elemets available in set, you will get an key error with remove but not with discard.\n",
    "print(str)\n",
    "str.pop() # remove random element from a set.\n",
    "print(str)\n",
    "str.clear() # remove all elements.\n",
    "print(str)"
   ]
  },
  {
   "cell_type": "markdown",
   "metadata": {},
   "source": [
    "**Set Operations**"
   ]
  },
  {
   "cell_type": "code",
   "execution_count": 67,
   "metadata": {},
   "outputs": [
    {
     "name": "stdout",
     "output_type": "stream",
     "text": [
      "{1, 2, 3, 4, 5, 6, 7, 8, 9, 10, 11, 12, 13, 14}\n",
      "{1, 2, 3, 4, 5, 6, 7, 8, 9, 10, 11, 12, 13, 14}\n",
      "{8, 9}\n",
      "{8, 9}\n",
      "{1, 2, 3, 4, 5, 6, 7}\n",
      "{1, 2, 3, 4, 5, 6, 7}\n",
      "{1, 2, 3, 4, 5, 6, 7, 10, 11, 12, 13, 14}\n",
      "{1, 2, 3, 4, 5, 6, 7, 10, 11, 12, 13, 14}\n",
      "set4 is subset of set3? False\n"
     ]
    }
   ],
   "source": [
    "#Union of sets.\n",
    "set1 = {1,2,3,4,5,6,7,8,9}\n",
    "set2 = {8,9,10,11,12,13,14}\n",
    "print(set1 | set2) #Union\n",
    "#another way of union.\n",
    "print(set1.union(set2))\n",
    "print( set1 & set2) #Intersection\n",
    "print(set1.intersection(set2))\n",
    "#set difference\n",
    "print(set1-set2)\n",
    "print(set1.difference(set2))\n",
    "\n",
    "#Symmetric difference. Mathemetically (Set1 U Set2) - (set1 intersection set2). Elements present only in set1 nand set2\n",
    "print(set1 ^ set2)\n",
    "print(set1.symmetric_difference(set2))\n",
    "\n",
    "#find issubset()? If the whole of set2 is part of set1 then we can called subset.\n",
    "set3 = {1,2,3,4,5,6}\n",
    "set4 = {1,2,3}\n",
    "print(\"set4 is subset of set3?\", set3.issubset(set4))\n"
   ]
  },
  {
   "cell_type": "markdown",
   "metadata": {},
   "source": [
    "**Frozen sets**\n",
    "immutable\n",
    "can be used as a key in dictionary. it is haseble"
   ]
  },
  {
   "cell_type": "code",
   "execution_count": 79,
   "metadata": {},
   "outputs": [
    {
     "name": "stdout",
     "output_type": "stream",
     "text": [
      "frozenset()\n",
      "frozenset()\n",
      "frozenset({1, 2, 3, 4, 5, 6, 7, 8, 9, 10})\n",
      "frozenset({1, 2, 3, 4, 5, 6, 7, 8, 9, 10})\n",
      "frozenset({1, 2, 3, 4, 5, 6, 7, 8, 9, 10})\n",
      "frozenset({1, 2, 3, 4, 5, 6, 7, 8, 9, 10})\n"
     ]
    }
   ],
   "source": [
    "w = frozenset([1,2,3,4,5,6])\n",
    "x = frozenset([7,8,9,10])\n",
    "#w.add(10) Gives error as frozen sets are constant.\n",
    "#print(w[1]) # also can not be indexed as common sets. But it can used in other functions like intersection union etc.\n",
    "print(w & x)\n",
    "print(w.intersection(x))\n",
    "print( w | x)\n",
    "print(w.union(x))\n",
    "print( w ^ x)\n",
    "print(w.symmetric_difference(x))\n"
   ]
  }
 ],
 "metadata": {
  "kernelspec": {
   "display_name": ".venv",
   "language": "python",
   "name": "python3"
  },
  "language_info": {
   "codemirror_mode": {
    "name": "ipython",
    "version": 3
   },
   "file_extension": ".py",
   "mimetype": "text/x-python",
   "name": "python",
   "nbconvert_exporter": "python",
   "pygments_lexer": "ipython3",
   "version": "3.9.13"
  },
  "orig_nbformat": 4
 },
 "nbformat": 4,
 "nbformat_minor": 2
}
